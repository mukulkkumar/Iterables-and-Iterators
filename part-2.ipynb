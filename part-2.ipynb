{
 "cells": [
  {
   "cell_type": "markdown",
   "source": [
    "## Iterators"
   ],
   "metadata": {}
  },
  {
   "cell_type": "markdown",
   "source": [
    "In part-1 we saw that we could approach iterating over a collection using this concept of `next`.\n",
    "\n",
    "But there were some downsides that did not resolve (yet!):\n",
    "* we cannot use a `for` loop\n",
    "* once we exhaust the iteration (repeatedly calling next), we're essentially done with object. The only way to iterate through it again is to create a new instance of the object."
   ],
   "metadata": {}
  },
  {
   "cell_type": "markdown",
   "source": [
    "First we are going to look at making our `next` be usable in a for loop."
   ],
   "metadata": {}
  },
  {
   "cell_type": "markdown",
   "source": [
    "This idea of using `__next__` and the `StopIteration` exception is exactly what Python does.\n",
    "\n",
    "So, somehow we need to tell Python that the object we are dealing with can be used with `next`.\n",
    "\n",
    "To do so, we create an `iterator` type object."
   ],
   "metadata": {}
  },
  {
   "cell_type": "markdown",
   "source": [
    "Iterators are objects that implement:\n",
    "* a `__next__` method\n",
    "* an `__iter__` method that simply returns the object itself"
   ],
   "metadata": {}
  },
  {
   "cell_type": "markdown",
   "source": [
    "That's it - that's all there is to an iterator - two methods, `__iter__` and `__next__`."
   ],
   "metadata": {}
  },
  {
   "cell_type": "markdown",
   "source": [
    "Let's go back to our `Squares` example:"
   ],
   "metadata": {}
  },
  {
   "cell_type": "code",
   "execution_count": 1,
   "source": [
    "class Squares:\n",
    "    def __init__(self, length):\n",
    "        self.length = length\n",
    "        self.i = 0\n",
    "        \n",
    "    def __iter__(self):\n",
    "        return self\n",
    "    \n",
    "    def __next__(self):\n",
    "        if self.i >= self.length:\n",
    "            raise StopIteration\n",
    "        else:\n",
    "            result = self.i ** 2\n",
    "            self.i += 1\n",
    "            return result"
   ],
   "outputs": [],
   "metadata": {}
  },
  {
   "cell_type": "markdown",
   "source": [
    "Now we can still call `next`:"
   ],
   "metadata": {}
  },
  {
   "cell_type": "code",
   "execution_count": 2,
   "source": [
    "sq = Squares(5)"
   ],
   "outputs": [],
   "metadata": {}
  },
  {
   "cell_type": "code",
   "execution_count": 3,
   "source": [
    "print(next(sq))\n",
    "print(next(sq))\n",
    "print(next(sq))"
   ],
   "outputs": [
    {
     "output_type": "stream",
     "name": "stdout",
     "text": [
      "0\n",
      "1\n",
      "4\n"
     ]
    }
   ],
   "metadata": {}
  },
  {
   "cell_type": "markdown",
   "source": [
    "Of course, our iterator still suffers from not being able to \"reset\" it - we just have to create a new instance:"
   ],
   "metadata": {}
  },
  {
   "cell_type": "code",
   "execution_count": 4,
   "source": [
    "sq = Squares(5)"
   ],
   "outputs": [],
   "metadata": {}
  },
  {
   "cell_type": "markdown",
   "source": [
    "But now, we can also use a `for` loop:"
   ],
   "metadata": {}
  },
  {
   "cell_type": "code",
   "execution_count": 5,
   "source": [
    "for item in sq:\n",
    "    print(item)"
   ],
   "outputs": [
    {
     "output_type": "stream",
     "name": "stdout",
     "text": [
      "0\n",
      "1\n",
      "4\n",
      "9\n",
      "16\n"
     ]
    }
   ],
   "metadata": {}
  },
  {
   "cell_type": "markdown",
   "source": [
    "Now `sq` is **exhausted**, so if we try to loop through again:"
   ],
   "metadata": {}
  },
  {
   "cell_type": "code",
   "execution_count": 6,
   "source": [
    "for item in sq:\n",
    "    print(item)"
   ],
   "outputs": [],
   "metadata": {}
  },
  {
   "cell_type": "markdown",
   "source": [
    "We get nothing..."
   ],
   "metadata": {}
  },
  {
   "cell_type": "markdown",
   "source": [
    "All we need to do is create a new iterator:"
   ],
   "metadata": {}
  },
  {
   "cell_type": "code",
   "execution_count": 7,
   "source": [
    "sq = Squares(5)"
   ],
   "outputs": [],
   "metadata": {}
  },
  {
   "cell_type": "code",
   "execution_count": 8,
   "source": [
    "for item in sq:\n",
    "    print(item)"
   ],
   "outputs": [
    {
     "output_type": "stream",
     "name": "stdout",
     "text": [
      "0\n",
      "1\n",
      "4\n",
      "9\n",
      "16\n"
     ]
    }
   ],
   "metadata": {}
  },
  {
   "cell_type": "markdown",
   "source": [
    "Just like Python's built-in `next` function calls our `__next__` method, Python has a built-in function `iter` which calls the `__iter__` method:"
   ],
   "metadata": {}
  },
  {
   "cell_type": "code",
   "execution_count": 9,
   "source": [
    "sq = Squares(5)"
   ],
   "outputs": [],
   "metadata": {}
  },
  {
   "cell_type": "code",
   "execution_count": 10,
   "source": [
    "id(sq)"
   ],
   "outputs": [
    {
     "output_type": "execute_result",
     "data": {
      "text/plain": [
       "140567989156176"
      ]
     },
     "metadata": {},
     "execution_count": 10
    }
   ],
   "metadata": {}
  },
  {
   "cell_type": "code",
   "execution_count": 11,
   "source": [
    "id(sq.__iter__())"
   ],
   "outputs": [
    {
     "output_type": "execute_result",
     "data": {
      "text/plain": [
       "140567989156176"
      ]
     },
     "metadata": {},
     "execution_count": 11
    }
   ],
   "metadata": {}
  },
  {
   "cell_type": "code",
   "execution_count": 12,
   "source": [
    "id(iter(sq))"
   ],
   "outputs": [
    {
     "output_type": "execute_result",
     "data": {
      "text/plain": [
       "140567989156176"
      ]
     },
     "metadata": {},
     "execution_count": 12
    }
   ],
   "metadata": {}
  },
  {
   "cell_type": "markdown",
   "source": [
    "And of course we can also use a list comprehension on our iterator object:"
   ],
   "metadata": {}
  },
  {
   "cell_type": "code",
   "execution_count": 13,
   "source": [
    "sq = Squares(5)"
   ],
   "outputs": [],
   "metadata": {}
  },
  {
   "cell_type": "code",
   "execution_count": 14,
   "source": [
    "[item for item in sq if item%2==0]"
   ],
   "outputs": [
    {
     "output_type": "execute_result",
     "data": {
      "text/plain": [
       "[0, 4, 16]"
      ]
     },
     "metadata": {},
     "execution_count": 14
    }
   ],
   "metadata": {}
  },
  {
   "cell_type": "markdown",
   "source": [
    "We can even use any function that requires an iterable as an argument (iterators are iterable):"
   ],
   "metadata": {}
  },
  {
   "cell_type": "code",
   "execution_count": 15,
   "source": [
    "sq = Squares(5)\n",
    "list(enumerate(sq))"
   ],
   "outputs": [
    {
     "output_type": "execute_result",
     "data": {
      "text/plain": [
       "[(0, 0), (1, 1), (2, 4), (3, 9), (4, 16)]"
      ]
     },
     "metadata": {},
     "execution_count": 15
    }
   ],
   "metadata": {}
  },
  {
   "cell_type": "markdown",
   "source": [
    "But of course we have to be careful, our iterator was exhausted, so if try that again:"
   ],
   "metadata": {}
  },
  {
   "cell_type": "code",
   "execution_count": 16,
   "source": [
    "list(enumerate(sq))"
   ],
   "outputs": [
    {
     "output_type": "execute_result",
     "data": {
      "text/plain": [
       "[]"
      ]
     },
     "metadata": {},
     "execution_count": 16
    }
   ],
   "metadata": {}
  },
  {
   "cell_type": "markdown",
   "source": [
    "we get an empty list - instead we have to create a new iterator first:"
   ],
   "metadata": {}
  },
  {
   "cell_type": "code",
   "execution_count": 17,
   "source": [
    "sq = Squares(5)\n",
    "list(enumerate(sq))"
   ],
   "outputs": [
    {
     "output_type": "execute_result",
     "data": {
      "text/plain": [
       "[(0, 0), (1, 1), (2, 4), (3, 9), (4, 16)]"
      ]
     },
     "metadata": {},
     "execution_count": 17
    }
   ],
   "metadata": {}
  },
  {
   "cell_type": "markdown",
   "source": [
    "We can even use the `sorted` method on it:"
   ],
   "metadata": {}
  },
  {
   "cell_type": "code",
   "execution_count": 18,
   "source": [
    "sq = Squares(5)\n",
    "sorted(sq, reverse=True)"
   ],
   "outputs": [
    {
     "output_type": "execute_result",
     "data": {
      "text/plain": [
       "[16, 9, 4, 1, 0]"
      ]
     },
     "metadata": {},
     "execution_count": 18
    }
   ],
   "metadata": {}
  },
  {
   "cell_type": "markdown",
   "source": [
    "#### Python Iterators Summary"
   ],
   "metadata": {}
  },
  {
   "cell_type": "markdown",
   "source": [
    "Iterators are objects that implement the `__iter__` and `__next__` methods.\n",
    "\n",
    "The `__iter__` method of an iterator just returns itself.\n",
    "\n",
    "Once we fully iterate over an iterator, the iterator is **exhausted** and we can no longer use it for iteration purposes."
   ],
   "metadata": {}
  },
  {
   "cell_type": "markdown",
   "source": [
    "The way Python applies a `for` loop to an iterator object is basically what we saw with the `while` loop and the `StopIteration` exception."
   ],
   "metadata": {}
  },
  {
   "cell_type": "code",
   "execution_count": 19,
   "source": [
    "sq = Squares(5)\n",
    "while True:\n",
    "    try:\n",
    "        print(next(sq))\n",
    "    except StopIteration:\n",
    "        break"
   ],
   "outputs": [
    {
     "output_type": "stream",
     "name": "stdout",
     "text": [
      "0\n",
      "1\n",
      "4\n",
      "9\n",
      "16\n"
     ]
    }
   ],
   "metadata": {}
  },
  {
   "cell_type": "markdown",
   "source": [
    "In fact we can easily see this by tweaking our iterator a bit:"
   ],
   "metadata": {}
  },
  {
   "cell_type": "code",
   "execution_count": 21,
   "source": [
    "class Squares:\n",
    "    def __init__(self, length):\n",
    "        self.length = length\n",
    "        self.i = 0\n",
    "        \n",
    "    def __iter__(self):\n",
    "        print('calling __iter__')\n",
    "        return self\n",
    "    \n",
    "    def __next__(self):\n",
    "        print('calling __next__')\n",
    "        if self.i >= self.length:\n",
    "            raise StopIteration\n",
    "        else:\n",
    "            result = self.i ** 2\n",
    "            self.i += 1\n",
    "            return result"
   ],
   "outputs": [],
   "metadata": {}
  },
  {
   "cell_type": "code",
   "execution_count": 22,
   "source": [
    "sq = Squares(5)"
   ],
   "outputs": [],
   "metadata": {}
  },
  {
   "cell_type": "code",
   "execution_count": 23,
   "source": [
    "for i in sq:\n",
    "    print(i)"
   ],
   "outputs": [
    {
     "output_type": "stream",
     "name": "stdout",
     "text": [
      "calling __iter__\n",
      "calling __next__\n",
      "0\n",
      "calling __next__\n",
      "1\n",
      "calling __next__\n",
      "4\n",
      "calling __next__\n",
      "9\n",
      "calling __next__\n",
      "16\n",
      "calling __next__\n"
     ]
    }
   ],
   "metadata": {}
  },
  {
   "cell_type": "markdown",
   "source": [
    "As you can see Python calls `__next__` (and stops once a `StopIteration` exception is raised).\n",
    "\n",
    "But you'll notice that it also called the `__iter__` method."
   ],
   "metadata": {}
  },
  {
   "cell_type": "markdown",
   "source": [
    "In fact we'll see this happening in other places too:"
   ],
   "metadata": {}
  },
  {
   "cell_type": "code",
   "execution_count": 24,
   "source": [
    "sq = Squares(5)\n",
    "[item for item in sq if item%2==0]"
   ],
   "outputs": [
    {
     "output_type": "stream",
     "name": "stdout",
     "text": [
      "calling __iter__\n",
      "calling __next__\n",
      "calling __next__\n",
      "calling __next__\n",
      "calling __next__\n",
      "calling __next__\n",
      "calling __next__\n"
     ]
    },
    {
     "output_type": "execute_result",
     "data": {
      "text/plain": [
       "[0, 4, 16]"
      ]
     },
     "metadata": {},
     "execution_count": 24
    }
   ],
   "metadata": {}
  },
  {
   "cell_type": "code",
   "execution_count": 25,
   "source": [
    "sq = Squares(5)\n",
    "list(enumerate(sq))"
   ],
   "outputs": [
    {
     "output_type": "stream",
     "name": "stdout",
     "text": [
      "calling __iter__\n",
      "calling __next__\n",
      "calling __next__\n",
      "calling __next__\n",
      "calling __next__\n",
      "calling __next__\n",
      "calling __next__\n"
     ]
    },
    {
     "output_type": "execute_result",
     "data": {
      "text/plain": [
       "[(0, 0), (1, 1), (2, 4), (3, 9), (4, 16)]"
      ]
     },
     "metadata": {},
     "execution_count": 25
    }
   ],
   "metadata": {}
  },
  {
   "cell_type": "code",
   "execution_count": 26,
   "source": [
    "sq = Squares(5)\n",
    "sorted(sq, reverse=True)"
   ],
   "outputs": [
    {
     "output_type": "stream",
     "name": "stdout",
     "text": [
      "calling __iter__\n",
      "calling __next__\n",
      "calling __next__\n",
      "calling __next__\n",
      "calling __next__\n",
      "calling __next__\n",
      "calling __next__\n"
     ]
    },
    {
     "output_type": "execute_result",
     "data": {
      "text/plain": [
       "[16, 9, 4, 1, 0]"
      ]
     },
     "metadata": {},
     "execution_count": 26
    }
   ],
   "metadata": {}
  },
  {
   "cell_type": "markdown",
   "source": [
    "let's see how we can mimic what Python is doing:"
   ],
   "metadata": {}
  },
  {
   "cell_type": "code",
   "execution_count": 27,
   "source": [
    "sq = Squares(5)\n",
    "sq_iterator = iter(sq)\n",
    "print(id(sq), id(sq_iterator))\n",
    "while True:\n",
    "    try:\n",
    "        item = next(sq_iterator)\n",
    "        print(item)\n",
    "    except StopIteration:\n",
    "        break"
   ],
   "outputs": [
    {
     "output_type": "stream",
     "name": "stdout",
     "text": [
      "calling __iter__\n",
      "140567989206800 140567989206800\n",
      "calling __next__\n",
      "0\n",
      "calling __next__\n",
      "1\n",
      "calling __next__\n",
      "4\n",
      "calling __next__\n",
      "9\n",
      "calling __next__\n",
      "16\n",
      "calling __next__\n"
     ]
    }
   ],
   "metadata": {}
  },
  {
   "cell_type": "markdown",
   "source": [
    "As you can see, we first request an iterator from `sq` using the `iter` function, and then we iterate using the returned iterator. In the case of an iterator, the `iter` function just gets the iterator itself back."
   ],
   "metadata": {}
  }
 ],
 "metadata": {
  "orig_nbformat": 4,
  "language_info": {
   "name": "python",
   "version": "3.7.5",
   "mimetype": "text/x-python",
   "codemirror_mode": {
    "name": "ipython",
    "version": 3
   },
   "pygments_lexer": "ipython3",
   "nbconvert_exporter": "python",
   "file_extension": ".py"
  },
  "kernelspec": {
   "name": "python3",
   "display_name": "Python 3.7.5 64-bit"
  },
  "interpreter": {
   "hash": "fd69f43f58546b570e94fd7eba7b65e6bcc7a5bbc4eab0408017d18902915d69"
  }
 },
 "nbformat": 4,
 "nbformat_minor": 2
}